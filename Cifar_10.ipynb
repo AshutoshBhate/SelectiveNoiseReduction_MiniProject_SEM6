{
 "cells": [
  {
   "cell_type": "code",
   "execution_count": 1,
   "id": "0268a408-8cdc-4e5e-9649-6305a064b3e1",
   "metadata": {},
   "outputs": [],
   "source": [
    "import tensorflow as tf\n",
    "from tensorflow.keras import datasets, layers, models\n",
    "import matplotlib.pyplot as plt\n",
    "import numpy as np"
   ]
  },
  {
   "cell_type": "code",
   "execution_count": 2,
   "id": "98cf4aa1-1b67-469f-a589-0a464559afd9",
   "metadata": {},
   "outputs": [],
   "source": [
    "(X_Train, Y_Train), (X_Test, Y_Test) = datasets.cifar10.load_data()"
   ]
  },
  {
   "cell_type": "code",
   "execution_count": 3,
   "id": "ca097020-2ced-447b-9656-b07ddded64c3",
   "metadata": {},
   "outputs": [
    {
     "data": {
      "text/plain": [
       "(50000, 32, 32, 3)"
      ]
     },
     "execution_count": 3,
     "metadata": {},
     "output_type": "execute_result"
    }
   ],
   "source": [
    "X_Train.shape"
   ]
  },
  {
   "cell_type": "code",
   "execution_count": 4,
   "id": "e19b0d95-f5e1-409f-80bb-e589e0244e0d",
   "metadata": {},
   "outputs": [
    {
     "data": {
      "text/plain": [
       "(10000, 32, 32, 3)"
      ]
     },
     "execution_count": 4,
     "metadata": {},
     "output_type": "execute_result"
    }
   ],
   "source": [
    "X_Test.shape"
   ]
  },
  {
   "cell_type": "code",
   "execution_count": 5,
   "id": "10311e18-c5d0-4020-a03a-76ffdddc991a",
   "metadata": {},
   "outputs": [
    {
     "data": {
      "text/plain": [
       "array([[[ 59,  62,  63],\n",
       "        [ 43,  46,  45],\n",
       "        [ 50,  48,  43],\n",
       "        ...,\n",
       "        [158, 132, 108],\n",
       "        [152, 125, 102],\n",
       "        [148, 124, 103]],\n",
       "\n",
       "       [[ 16,  20,  20],\n",
       "        [  0,   0,   0],\n",
       "        [ 18,   8,   0],\n",
       "        ...,\n",
       "        [123,  88,  55],\n",
       "        [119,  83,  50],\n",
       "        [122,  87,  57]],\n",
       "\n",
       "       [[ 25,  24,  21],\n",
       "        [ 16,   7,   0],\n",
       "        [ 49,  27,   8],\n",
       "        ...,\n",
       "        [118,  84,  50],\n",
       "        [120,  84,  50],\n",
       "        [109,  73,  42]],\n",
       "\n",
       "       ...,\n",
       "\n",
       "       [[208, 170,  96],\n",
       "        [201, 153,  34],\n",
       "        [198, 161,  26],\n",
       "        ...,\n",
       "        [160, 133,  70],\n",
       "        [ 56,  31,   7],\n",
       "        [ 53,  34,  20]],\n",
       "\n",
       "       [[180, 139,  96],\n",
       "        [173, 123,  42],\n",
       "        [186, 144,  30],\n",
       "        ...,\n",
       "        [184, 148,  94],\n",
       "        [ 97,  62,  34],\n",
       "        [ 83,  53,  34]],\n",
       "\n",
       "       [[177, 144, 116],\n",
       "        [168, 129,  94],\n",
       "        [179, 142,  87],\n",
       "        ...,\n",
       "        [216, 184, 140],\n",
       "        [151, 118,  84],\n",
       "        [123,  92,  72]]], dtype=uint8)"
      ]
     },
     "execution_count": 5,
     "metadata": {},
     "output_type": "execute_result"
    }
   ],
   "source": [
    "X_Train[0]"
   ]
  },
  {
   "cell_type": "code",
   "execution_count": 6,
   "id": "0f10eaff-bc31-4237-8fb0-c6c4c9e1b08e",
   "metadata": {},
   "outputs": [
    {
     "data": {
      "text/plain": [
       "(32, 32, 3)"
      ]
     },
     "execution_count": 6,
     "metadata": {},
     "output_type": "execute_result"
    }
   ],
   "source": [
    "X_Train[0].shape"
   ]
  },
  {
   "cell_type": "code",
   "execution_count": 7,
   "id": "272e42f3-1e21-4442-8353-62e2ff360c9d",
   "metadata": {},
   "outputs": [
    {
     "data": {
      "text/plain": [
       "(50000, 1)"
      ]
     },
     "execution_count": 7,
     "metadata": {},
     "output_type": "execute_result"
    }
   ],
   "source": [
    "Y_Train.shape"
   ]
  },
  {
   "cell_type": "code",
   "execution_count": 8,
   "id": "52bdf05e-750f-41b9-bd25-87c5263cbd7d",
   "metadata": {},
   "outputs": [
    {
     "data": {
      "text/plain": [
       "array([[6],\n",
       "       [9],\n",
       "       [9],\n",
       "       [4],\n",
       "       [1]], dtype=uint8)"
      ]
     },
     "execution_count": 8,
     "metadata": {},
     "output_type": "execute_result"
    }
   ],
   "source": [
    "Y_Train[:5]"
   ]
  },
  {
   "cell_type": "code",
   "execution_count": 9,
   "id": "c609fb61-2ed6-46d8-b38b-5b1b9a4c820d",
   "metadata": {},
   "outputs": [
    {
     "name": "stdout",
     "output_type": "stream",
     "text": [
      "[6 9 9 4 1 1]\n",
      "[3 8 8 0 6 6]\n"
     ]
    }
   ],
   "source": [
    "#Flatten the 2D Matrix\n",
    "Y_Train = Y_Train.reshape(-1, )\n",
    "Y_Test = Y_Test.reshape(-1, )\n",
    "print(Y_Train[:6])\n",
    "print(Y_Test[:6])"
   ]
  },
  {
   "cell_type": "code",
   "execution_count": 10,
   "id": "6bc0ecf1-d00b-4895-93da-a213e5089ffa",
   "metadata": {},
   "outputs": [
    {
     "data": {
      "text/plain": [
       "<matplotlib.image.AxesImage at 0x212602349d0>"
      ]
     },
     "execution_count": 10,
     "metadata": {},
     "output_type": "execute_result"
    },
    {
     "data": {
      "image/png": "[encoded data removed]",
      "text/plain": [
       "<Figure size 640x480 with 1 Axes>"
      ]
     },
     "metadata": {},
     "output_type": "display_data"
    }
   ],
   "source": [
    "plt.imshow(X_Train[0])"
   ]
  },
  {
   "cell_type": "code",
   "execution_count": 11,
   "id": "282a2557-8b72-4776-b5fe-558fcc46ea52",
   "metadata": {},
   "outputs": [
    {
     "data": {
      "text/plain": [
       "<matplotlib.image.AxesImage at 0x2126b705810>"
      ]
     },
     "execution_count": 11,
     "metadata": {},
     "output_type": "execute_result"
    },
    {
     "data": {
      "image/png": "[encoded data removed]",
      "text/plain": [
       "<Figure size 640x480 with 1 Axes>"
      ]
     },
     "metadata": {},
     "output_type": "display_data"
    }
   ],
   "source": [
    "plt.imshow(X_Train[1])"
   ]
  },
  {
   "cell_type": "code",
   "execution_count": 12,
   "id": "135ee885-afb6-434f-99b8-f44283a3f45d",
   "metadata": {},
   "outputs": [
    {
     "data": {
      "text/plain": [
       "<matplotlib.image.AxesImage at 0x2126952b820>"
      ]
     },
     "execution_count": 12,
     "metadata": {},
     "output_type": "execute_result"
    },
    {
     "data": {
      "image/png": "[encoded data removed]",
      "text/plain": [
       "<Figure size 1500x200 with 1 Axes>"
      ]
     },
     "metadata": {},
     "output_type": "display_data"
    }
   ],
   "source": [
    "#Resize image\n",
    "plt.figure(figsize = (15, 2))\n",
    "plt.imshow(X_Train[0])"
   ]
  },
  {
   "cell_type": "code",
   "execution_count": 13,
   "id": "4feac2a7-aa94-4d06-93b5-e85957cea5ce",
   "metadata": {},
   "outputs": [],
   "source": [
    "classes = ['airplane', 'automobile', 'bird', 'cat', 'deer', 'dog', 'frog', 'horse', 'ship', 'truck'] "
   ]
  },
  {
   "cell_type": "code",
   "execution_count": 14,
   "id": "2d77fa96-3f8c-4a3f-951b-8cbeb846af29",
   "metadata": {},
   "outputs": [
    {
     "data": {
      "text/plain": [
       "'truck'"
      ]
     },
     "execution_count": 14,
     "metadata": {},
     "output_type": "execute_result"
    }
   ],
   "source": [
    "classes[9]"
   ]
  },
  {
   "cell_type": "code",
   "execution_count": 15,
   "id": "d79814df-db37-4fe4-9664-5fcf9b493047",
   "metadata": {},
   "outputs": [],
   "source": [
    "#For quick data exploration:\n",
    "def plot_sample(X, Y, index):\n",
    "    plt.figure(figsize = (15, 2))\n",
    "    plt.imshow(X[index])\n",
    "    plt.xlabel(classes[Y[index]])"
   ]
  },
  {
   "cell_type": "code",
   "execution_count": 16,
   "id": "9e08c0c9-5d0b-42da-b652-f54951f18c21",
   "metadata": {},
   "outputs": [
    {
     "data": {
      "image/png": "[encoded data removed]",
      "text/plain": [
       "<Figure size 1500x200 with 1 Axes>"
      ]
     },
     "metadata": {},
     "output_type": "display_data"
    }
   ],
   "source": [
    "plot_sample(X_Train, Y_Train, 0)"
   ]
  },
  {
   "cell_type": "code",
   "execution_count": 17,
   "id": "50a43937-462d-4c49-ae3f-b4d7daddac70",
   "metadata": {},
   "outputs": [
    {
     "data": {
      "image/png": "[encoded data removed]",
      "text/plain": [
       "<Figure size 1500x200 with 1 Axes>"
      ]
     },
     "metadata": {},
     "output_type": "display_data"
    }
   ],
   "source": [
    "plot_sample(X_Train, Y_Train, 1)"
   ]
  },
  {
   "cell_type": "code",
   "execution_count": 18,
   "id": "a802acf1-aa93-41ae-8aee-21e4e60dec22",
   "metadata": {},
   "outputs": [
    {
     "data": {
      "text/plain": [
       "array([3, 8, 8, 0, 6], dtype=uint8)"
      ]
     },
     "execution_count": 18,
     "metadata": {},
     "output_type": "execute_result"
    }
   ],
   "source": [
    "Y_Test[:5]"
   ]
  },
  {
   "cell_type": "code",
   "execution_count": 19,
   "id": "a9d4d1fc-609a-4671-a7a5-f100c2e7168b",
   "metadata": {},
   "outputs": [],
   "source": [
    "#Turns out the X and Y are corresponding, even Test ones"
   ]
  },
  {
   "cell_type": "code",
   "execution_count": 20,
   "id": "6ab4d95c-b028-456f-8983-a1847e696b02",
   "metadata": {},
   "outputs": [],
   "source": [
    "#Now, we normalize our data"
   ]
  },
  {
   "cell_type": "code",
   "execution_count": 21,
   "id": "079002ba-6310-4256-9331-082dd2f9fd8c",
   "metadata": {},
   "outputs": [],
   "source": [
    "X_Train = X_Train/255.0\n",
    "X_Test = X_Test/255.0"
   ]
  },
  {
   "cell_type": "code",
   "execution_count": 22,
   "id": "47ca9ea0-d8e0-44af-9eb1-77c33ae92f86",
   "metadata": {},
   "outputs": [],
   "source": [
    "#Simple Artifical Neural Network:"
   ]
  },
  {
   "cell_type": "code",
   "execution_count": 23,
   "id": "74c8057f-1f35-4b2c-886a-9945cfce90da",
   "metadata": {},
   "outputs": [],
   "source": [
    "ANN = models.Sequential([\n",
    "    tf.keras.layers.Flatten(input_shape = (32, 32, 3)),  #Gives warnings\n",
    "    tf.keras.layers.Dense(3000, activation = 'relu'),\n",
    "    tf.keras.layers.Dense(1000, activation = 'relu'),\n",
    "    tf.keras.layers.Dense(100, activation = 'softmax')])\n",
    "\n",
    "ANN.compile(optimizer = 'SGD', loss = 'sparse_categorical_crossentropy', metrics = ['accuracy'])\n",
    "                          "
   ]
  },
  {
   "cell_type": "code",
   "execution_count": 24,
   "id": "42976e64-9200-4f16-9528-3e5c130580d6",
   "metadata": {},
   "outputs": [
    {
     "name": "stdout",
     "output_type": "stream",
     "text": [
      "Epoch 1/5\n",
      "1563/1563 [==============================] - 11s 5ms/step - loss: 1.8801 - accuracy: 0.3358\n",
      "Epoch 2/5\n",
      "1563/1563 [==============================] - 8s 5ms/step - loss: 1.6578 - accuracy: 0.4140\n",
      "Epoch 3/5\n",
      "1563/1563 [==============================] - 9s 6ms/step - loss: 1.5678 - accuracy: 0.4451\n",
      "Epoch 4/5\n",
      "1563/1563 [==============================] - 8s 5ms/step - loss: 1.5063 - accuracy: 0.4681\n",
      "Epoch 5/5\n",
      "1563/1563 [==============================] - 8s 5ms/step - loss: 1.4558 - accuracy: 0.4884\n"
     ]
    },
    {
     "data": {
      "text/plain": [
       "<keras.callbacks.History at 0x2126c871540>"
      ]
     },
     "execution_count": 24,
     "metadata": {},
     "output_type": "execute_result"
    }
   ],
   "source": [
    "ANN.fit(X_Train, Y_Train, epochs = 5)"
   ]
  },
  {
   "cell_type": "code",
   "execution_count": 25,
   "id": "02163b81-8533-477f-a5c3-9b61adfe819a",
   "metadata": {},
   "outputs": [
    {
     "name": "stdout",
     "output_type": "stream",
     "text": [
      "313/313 [==============================] - 1s 3ms/step\n",
      "Classification Report: \n",
      "               precision    recall  f1-score   support\n",
      "\n",
      "           0       0.57      0.48      0.52      1000\n",
      "           1       0.58      0.64      0.61      1000\n",
      "           2       0.49      0.10      0.16      1000\n",
      "           3       0.42      0.14      0.22      1000\n",
      "           4       0.42      0.39      0.40      1000\n",
      "           5       0.47      0.24      0.32      1000\n",
      "           6       0.49      0.55      0.52      1000\n",
      "           7       0.26      0.87      0.40      1000\n",
      "           8       0.69      0.49      0.58      1000\n",
      "           9       0.59      0.49      0.53      1000\n",
      "\n",
      "    accuracy                           0.44     10000\n",
      "   macro avg       0.50      0.44      0.43     10000\n",
      "weighted avg       0.50      0.44      0.43     10000\n",
      "\n"
     ]
    }
   ],
   "source": [
    "from sklearn.metrics import confusion_matrix, classification_report\n",
    "import numpy as np\n",
    "Y_Pred = ANN.predict(X_Test)\n",
    "Y_Pred_Classes = [np.argmax(element) for element in Y_Pred]\n",
    "\n",
    "print(\"Classification Report: \\n\", classification_report(Y_Test, Y_Pred_Classes))"
   ]
  },
  {
   "cell_type": "code",
   "execution_count": 26,
   "id": "0cb6de10-e9e9-4474-82f0-6eca59241fcf",
   "metadata": {},
   "outputs": [
    {
     "name": "stdout",
     "output_type": "stream",
     "text": [
      "[[2.25966442e-02 5.27834781e-02 9.03911069e-02 2.78510928e-01\n",
      "  3.72670144e-02 1.54175043e-01 2.65922278e-01 9.25447792e-03\n",
      "  8.21564123e-02 4.78791352e-03 2.11608512e-05 3.29848735e-05\n",
      "  3.03178531e-05 3.42604326e-05 3.05149842e-05 2.69880729e-05\n",
      "  2.28650879e-05 1.75983932e-05 1.92605785e-05 1.39398880e-05\n",
      "  2.21153859e-05 1.99097994e-05 1.79086637e-05 2.69211359e-05\n",
      "  2.17938141e-05 2.26467273e-05 2.91965698e-05 1.33904759e-05\n",
      "  1.55650760e-05 2.75831662e-05 2.17525121e-05 2.58044420e-05\n",
      "  2.64208356e-05 1.79382332e-05 2.45983611e-05 1.90039700e-05\n",
      "  2.56403582e-05 2.97738716e-05 2.15658893e-05 3.52561292e-05\n",
      "  2.39907367e-05 1.87996120e-05 1.72365617e-05 2.89583404e-05\n",
      "  1.34306338e-05 1.92830739e-05 1.81325740e-05 3.77675715e-05\n",
      "  5.34722276e-05 2.12414834e-05 2.25808635e-05 1.60487525e-05\n",
      "  1.80212428e-05 1.64269877e-05 2.20932725e-05 4.13286834e-05\n",
      "  2.02632946e-05 1.57900431e-05 1.61782973e-05 2.52625887e-05\n",
      "  3.19318278e-05 2.11097340e-05 2.18573387e-05 1.54667632e-05\n",
      "  1.70348540e-05 2.67306441e-05 9.84940380e-06 2.51875081e-05\n",
      "  1.13954193e-05 2.65475755e-05 1.78699702e-05 2.21451664e-05\n",
      "  2.57375432e-05 4.75798661e-05 1.76478225e-05 2.51480724e-05\n",
      "  3.29947543e-05 2.38064003e-05 2.52048085e-05 2.30270653e-05\n",
      "  2.09324971e-05 2.80518670e-05 2.73900532e-05 1.67082399e-05\n",
      "  2.57717074e-05 1.98232920e-05 3.50421360e-05 2.95019927e-05\n",
      "  3.90579698e-05 2.56825952e-05 2.60187608e-05 1.80154002e-05\n",
      "  3.74441515e-05 2.43715131e-05 2.17948527e-05 3.37946949e-05\n",
      "  1.91376839e-05 1.38025225e-05 1.62430879e-05 2.69526554e-05]\n",
      " [4.63298596e-02 4.01155204e-01 1.41160842e-03 1.32034672e-03\n",
      "  1.44128979e-03 5.92894037e-04 1.81110328e-04 9.77609772e-03\n",
      "  1.16828352e-01 4.20932591e-01 3.47543846e-07 8.24251913e-07\n",
      "  3.55621040e-07 4.43408112e-07 4.42164520e-07 1.94782146e-07\n",
      "  4.80486278e-07 1.25310649e-07 1.52808568e-07 1.54456416e-07\n",
      "  2.56922249e-07 3.95107179e-07 2.59396529e-07 3.11112871e-07\n",
      "  2.31001110e-07 3.36476006e-07 3.07417935e-07 1.88277610e-07\n",
      "  2.90895400e-07 6.46447745e-07 3.76834549e-07 2.50658729e-07\n",
      "  2.57436540e-07 1.64678951e-07 3.67263254e-07 2.10424389e-07\n",
      "  2.83263148e-07 3.05029943e-07 4.19695482e-07 2.11589153e-07\n",
      "  2.69548934e-07 3.04410662e-07 1.15885570e-07 1.71039744e-07\n",
      "  3.46721180e-07 3.65736213e-07 2.37433440e-07 4.44989951e-07\n",
      "  2.64976734e-07 4.31682196e-07 4.72368015e-07 1.98293620e-07\n",
      "  2.82192417e-07 2.16607020e-07 5.05607659e-07 2.97484945e-07\n",
      "  5.10367954e-07 1.29008370e-07 3.34393491e-07 2.26850958e-07\n",
      "  5.26545648e-07 6.22958169e-07 2.80829966e-07 5.43779322e-07\n",
      "  2.06087151e-07 5.58724992e-07 1.15741656e-07 8.31886723e-07\n",
      "  1.80942251e-07 5.18672095e-07 7.10030747e-07 4.63175041e-07\n",
      "  3.23847615e-07 2.56038504e-07 1.73262649e-07 3.14112640e-07\n",
      "  2.96569709e-07 3.19881224e-07 3.35625771e-07 2.53979607e-07\n",
      "  6.46823366e-07 2.05768032e-07 4.67763215e-07 1.39590824e-07\n",
      "  2.15121531e-07 4.38151631e-07 3.15908551e-07 3.06410470e-07\n",
      "  4.40966062e-07 5.18132708e-07 2.50446078e-07 4.66784655e-07\n",
      "  4.75309349e-07 1.42147869e-07 3.05052055e-07 4.22915377e-07\n",
      "  3.12525998e-07 6.78840649e-07 1.92264437e-07 2.03094956e-07]\n",
      " [2.87952185e-01 3.00231814e-01 3.26192682e-03 2.27376982e-03\n",
      "  4.16502543e-03 1.86222524e-03 7.42063930e-05 2.93609519e-02\n",
      "  2.22721338e-01 1.47879303e-01 2.32866410e-06 5.93375125e-06\n",
      "  2.60108732e-06 3.23661470e-06 3.72946511e-06 2.00638328e-06\n",
      "  2.86544764e-06 1.06490245e-06 1.00131672e-06 1.24035751e-06\n",
      "  2.54053271e-06 2.93955236e-06 2.61977334e-06 1.63680340e-06\n",
      "  1.31474826e-06 1.99603141e-06 1.72161742e-06 1.67961389e-06\n",
      "  2.89873287e-06 4.03465219e-06 1.81098335e-06 1.61273397e-06\n",
      "  2.54189217e-06 1.46216462e-06 1.72407704e-06 1.66318046e-06\n",
      "  1.86274644e-06 1.47987998e-06 4.09041468e-06 2.72995362e-06\n",
      "  2.53319968e-06 3.08908875e-06 1.13270414e-06 1.09688028e-06\n",
      "  2.17354250e-06 2.28729618e-06 1.54760892e-06 2.19034337e-06\n",
      "  2.53287612e-06 3.03977276e-06 3.87593764e-06 1.28563659e-06\n",
      "  2.03135073e-06 1.83645045e-06 4.27860232e-06 2.52910559e-06\n",
      "  3.70892894e-06 1.23325913e-06 2.29169814e-06 1.49780840e-06\n",
      "  3.04709010e-06 3.48182471e-06 2.50174435e-06 3.26431814e-06\n",
      "  1.29114471e-06 3.10994847e-06 8.49953210e-07 3.60755530e-06\n",
      "  1.03672710e-06 2.36512756e-06 4.75623119e-06 2.08603365e-06\n",
      "  4.75636307e-06 1.60739046e-06 1.06059906e-06 2.32680623e-06\n",
      "  1.97550889e-06 2.66083089e-06 2.14781858e-06 2.27977421e-06\n",
      "  5.90870195e-06 1.26958150e-06 3.59475507e-06 1.33726985e-06\n",
      "  1.87449018e-06 3.47632999e-06 2.29639750e-06 1.71535032e-06\n",
      "  2.48909328e-06 2.24940322e-06 1.31806894e-06 3.27356793e-06\n",
      "  3.83813904e-06 1.50811684e-06 2.33653213e-06 3.02840158e-06\n",
      "  2.42622400e-06 2.93710059e-06 1.97392501e-06 1.61022740e-06]\n",
      " [2.89690167e-01 6.98492229e-02 4.08493690e-02 1.04111265e-02\n",
      "  4.16432917e-02 1.25337411e-02 9.03153908e-04 4.10875231e-01\n",
      "  9.44655240e-02 2.84698475e-02 3.71453484e-06 9.00419400e-06\n",
      "  4.85392502e-06 3.89831212e-06 4.83008444e-06 2.57129796e-06\n",
      "  4.19538128e-06 2.13838371e-06 1.82648728e-06 1.36652454e-06\n",
      "  3.01904038e-06 3.63073059e-06 3.68025758e-06 2.91013794e-06\n",
      "  2.07310654e-06 2.78405378e-06 2.37693712e-06 2.31128638e-06\n",
      "  2.80531958e-06 5.23451308e-06 2.04823505e-06 3.74038518e-06\n",
      "  4.56960061e-06 2.07835228e-06 3.22459164e-06 2.04482740e-06\n",
      "  2.18762466e-06 3.03787670e-06 3.79059816e-06 2.81346706e-06\n",
      "  6.02985438e-06 3.58477132e-06 2.03774334e-06 1.93470055e-06\n",
      "  3.09409097e-06 4.75559500e-06 2.44939974e-06 4.13763155e-06\n",
      "  3.45502099e-06 4.44437228e-06 4.31691933e-06 2.56297881e-06\n",
      "  1.78714151e-06 2.39746305e-06 4.05088667e-06 4.52313907e-06\n",
      "  4.33606829e-06 1.53320161e-06 3.46085471e-06 2.81544794e-06\n",
      "  3.90575860e-06 5.03509636e-06 1.90282685e-06 5.86301985e-06\n",
      "  1.81864129e-06 5.04422314e-06 1.91591721e-06 3.54410577e-06\n",
      "  1.45016577e-06 4.60353931e-06 6.39135078e-06 4.79485971e-06\n",
      "  3.95156076e-06 2.72114403e-06 2.11504766e-06 2.86206864e-06\n",
      "  3.07507889e-06 4.36289338e-06 2.37233780e-06 2.25173994e-06\n",
      "  4.85972851e-06 2.09089308e-06 4.69803535e-06 2.10190501e-06\n",
      "  3.82274811e-06 4.15791601e-06 4.26208271e-06 3.05797948e-06\n",
      "  4.74899161e-06 5.23144899e-06 2.47563617e-06 5.12332554e-06\n",
      "  6.03999479e-06 3.25485803e-06 3.56553164e-06 3.50322989e-06\n",
      "  2.48950755e-06 3.33016419e-06 1.55779458e-06 2.47361368e-06]\n",
      " [4.97698504e-03 3.75816016e-03 7.45072961e-02 3.09908856e-02\n",
      "  6.01803601e-01 3.22700776e-02 2.03113481e-01 3.66197973e-02\n",
      "  1.00190332e-02 1.56703091e-03 3.85248086e-06 5.10494465e-06\n",
      "  5.19608693e-06 4.64950517e-06 2.70155988e-06 5.77214541e-06\n",
      "  3.27517228e-06 4.25783037e-06 2.35081438e-06 1.20744403e-06\n",
      "  5.89266847e-06 4.62355911e-06 2.93652056e-06 4.66001302e-06\n",
      "  4.28594876e-06 3.25295582e-06 4.82020505e-06 2.58892078e-06\n",
      "  3.51892481e-06 3.71664009e-06 4.17295223e-06 2.66628945e-06\n",
      "  7.15645183e-06 3.11408508e-06 4.47517004e-06 3.07534015e-06\n",
      "  6.19036382e-06 6.11799305e-06 3.44355749e-06 3.86495594e-06\n",
      "  3.48077151e-06 4.92617164e-06 2.47810294e-06 3.16590445e-06\n",
      "  2.95680707e-06 4.65105313e-06 2.60954948e-06 4.55351392e-06\n",
      "  5.20600770e-06 4.25401095e-06 3.47199284e-06 3.92326001e-06\n",
      "  3.11335748e-06 3.02476428e-06 2.75114144e-06 4.16332114e-06\n",
      "  4.55190775e-06 3.62320111e-06 4.84110251e-06 3.51659310e-06\n",
      "  5.89241563e-06 4.35217635e-06 3.01790647e-06 3.42604926e-06\n",
      "  3.32310560e-06 4.61512764e-06 2.24279029e-06 4.11471865e-06\n",
      "  1.93780306e-06 5.39971234e-06 5.06882179e-06 4.83568465e-06\n",
      "  3.41064583e-06 5.58266993e-06 2.87859166e-06 3.34824585e-06\n",
      "  6.29539045e-06 4.23017855e-06 2.95540849e-06 2.88769820e-06\n",
      "  6.19414413e-06 5.02581361e-06 3.30692205e-06 4.37892595e-06\n",
      "  5.75746617e-06 3.74431511e-06 5.33658522e-06 6.52481640e-06\n",
      "  6.64746267e-06 5.54738745e-06 4.82831138e-06 4.04676348e-06\n",
      "  7.13327836e-06 5.48826665e-06 4.96199209e-06 4.63954848e-06\n",
      "  3.02170497e-06 2.38009034e-06 3.19832361e-06 3.48581443e-06]]\n",
      "[3, 9, 1, 7, 4]\n",
      "[3 8 8 0 6]\n"
     ]
    }
   ],
   "source": [
    "print(Y_Pred[:5])  # Predicted probabilities\n",
    "print(Y_Pred_Classes[:5])  # Predicted class labels\n",
    "print(Y_Test[:5])  # True class labels"
   ]
  },
  {
   "cell_type": "code",
   "execution_count": 27,
   "id": "1f300ffd-fd85-4669-bc19-ab88e38ed9c8",
   "metadata": {},
   "outputs": [],
   "source": [
    "#Now let us use CNN to improve performance of model"
   ]
  },
  {
   "cell_type": "code",
   "execution_count": 28,
   "id": "a8c55e29-6702-4e9c-a091-5b4c521e3df6",
   "metadata": {},
   "outputs": [],
   "source": [
    "CNN = models.Sequential([\n",
    "    #CNN Layer\n",
    "    layers.Conv2D(filters = 32, kernel_size = (3, 3), activation = 'relu', input_shape = (32, 32, 3)),  #Can detect 32 different features/edges\n",
    "    layers.MaxPooling2D((2, 2)),\n",
    "\n",
    "    layers.Conv2D(filters = 64, kernel_size = (3, 3), activation = 'relu'),  #Can detect 32 different features/edges\n",
    "    layers.MaxPooling2D((2, 2)),\n",
    "    \n",
    "    layers.Conv2D(filters = 128, kernel_size = (3, 3), activation = 'relu'),  #Can detect 32 different features/edges\n",
    "    layers.MaxPooling2D((2, 2)),\n",
    "    \n",
    "    #Dense Layer, no need to specify space in middle layer\n",
    "    layers.Flatten(),\n",
    "    tf.keras.layers.Dense(64, activation = 'relu'),\n",
    "    tf.keras.layers.Dense(10, activation = 'softmax')])  #Softmax layer will normalize probability"
   ]
  },
  {
   "cell_type": "code",
   "execution_count": 29,
   "id": "75f130f1-b848-4b1d-99ff-284bf8fa2387",
   "metadata": {},
   "outputs": [
    {
     "data": {
      "text/plain": [
       "'\\nSigmoid:\\nClass 1: 0.45\\nClass 2: 0.67\\n\\nSoftmax:\\nClass 1: (0.45)/(0.45 + 0.67)\\nClass 2: (0.67)/(0.45 + 0.67)\\n\\nSum always 1 of softmax\\n'"
      ]
     },
     "execution_count": 29,
     "metadata": {},
     "output_type": "execute_result"
    }
   ],
   "source": [
    "'''\n",
    "Sigmoid:\n",
    "Class 1: 0.45\n",
    "Class 2: 0.67\n",
    "\n",
    "Softmax:\n",
    "Class 1: (0.45)/(0.45 + 0.67)\n",
    "Class 2: (0.67)/(0.45 + 0.67)\n",
    "\n",
    "Sum always 1 of softmax\n",
    "'''"
   ]
  },
  {
   "cell_type": "code",
   "execution_count": 30,
   "id": "8bacd59e-8757-4552-8a01-18be84c9960b",
   "metadata": {},
   "outputs": [],
   "source": [
    "CNN.compile(optimizer = 'adam',\n",
    "            loss = 'sparse_categorical_crossentropy',\n",
    "            metrics = ['accuracy'])"
   ]
  },
  {
   "cell_type": "code",
   "execution_count": 31,
   "id": "43f96cf8-ea2c-496b-9689-f8901a944ead",
   "metadata": {},
   "outputs": [
    {
     "name": "stdout",
     "output_type": "stream",
     "text": [
      "Epoch 1/20\n",
      "1563/1563 [==============================] - 18s 7ms/step - loss: 1.5282 - accuracy: 0.4458\n",
      "Epoch 2/20\n",
      "1563/1563 [==============================] - 11s 7ms/step - loss: 1.1337 - accuracy: 0.6017\n",
      "Epoch 3/20\n",
      "1563/1563 [==============================] - 11s 7ms/step - loss: 0.9834 - accuracy: 0.6572\n",
      "Epoch 4/20\n",
      "1563/1563 [==============================] - 11s 7ms/step - loss: 0.8789 - accuracy: 0.6921\n",
      "Epoch 5/20\n",
      "1563/1563 [==============================] - 11s 7ms/step - loss: 0.7965 - accuracy: 0.7225\n",
      "Epoch 6/20\n",
      "1563/1563 [==============================] - 10s 6ms/step - loss: 0.7387 - accuracy: 0.7440\n",
      "Epoch 7/20\n",
      "1563/1563 [==============================] - 11s 7ms/step - loss: 0.6868 - accuracy: 0.7586\n",
      "Epoch 8/20\n",
      "1563/1563 [==============================] - 10s 6ms/step - loss: 0.6317 - accuracy: 0.7802\n",
      "Epoch 9/20\n",
      "1563/1563 [==============================] - 10s 6ms/step - loss: 0.5911 - accuracy: 0.7939\n",
      "Epoch 10/20\n",
      "1563/1563 [==============================] - 11s 7ms/step - loss: 0.5529 - accuracy: 0.8074\n",
      "Epoch 11/20\n",
      "1563/1563 [==============================] - 23s 15ms/step - loss: 0.5159 - accuracy: 0.8169\n",
      "Epoch 12/20\n",
      "1563/1563 [==============================] - 11s 7ms/step - loss: 0.4840 - accuracy: 0.8287\n",
      "Epoch 13/20\n",
      "1563/1563 [==============================] - 11s 7ms/step - loss: 0.4507 - accuracy: 0.8398\n",
      "Epoch 14/20\n",
      "1563/1563 [==============================] - 12s 8ms/step - loss: 0.4219 - accuracy: 0.8501\n",
      "Epoch 15/20\n",
      "1563/1563 [==============================] - 9s 6ms/step - loss: 0.3924 - accuracy: 0.8624\n",
      "Epoch 16/20\n",
      "1563/1563 [==============================] - 10s 6ms/step - loss: 0.3708 - accuracy: 0.8694\n",
      "Epoch 17/20\n",
      "1563/1563 [==============================] - 14s 9ms/step - loss: 0.3402 - accuracy: 0.8781\n",
      "Epoch 18/20\n",
      "1563/1563 [==============================] - 12s 7ms/step - loss: 0.3177 - accuracy: 0.8849\n",
      "Epoch 19/20\n",
      "1563/1563 [==============================] - 12s 8ms/step - loss: 0.3019 - accuracy: 0.8915\n",
      "Epoch 20/20\n",
      "1563/1563 [==============================] - 12s 7ms/step - loss: 0.2848 - accuracy: 0.8976\n"
     ]
    },
    {
     "data": {
      "text/plain": [
       "<keras.callbacks.History at 0x213b33bfb20>"
      ]
     },
     "execution_count": 31,
     "metadata": {},
     "output_type": "execute_result"
    }
   ],
   "source": [
    "CNN.fit(X_Train, Y_Train, epochs = 20)"
   ]
  },
  {
   "cell_type": "code",
   "execution_count": 32,
   "id": "8c3ecb64-89e9-474d-a968-5f3faaea3f6f",
   "metadata": {},
   "outputs": [
    {
     "name": "stdout",
     "output_type": "stream",
     "text": [
      "313/313 [==============================] - 4s 10ms/step - loss: 1.1870 - accuracy: 0.7093\n"
     ]
    },
    {
     "data": {
      "text/plain": [
       "[1.1869701147079468, 0.7092999815940857]"
      ]
     },
     "execution_count": 32,
     "metadata": {},
     "output_type": "execute_result"
    }
   ],
   "source": [
    "CNN.evaluate(X_Test, Y_Test)"
   ]
  },
  {
   "cell_type": "code",
   "execution_count": 33,
   "id": "b0dd95c9-69a5-4c53-9ecf-f2e94da1efdb",
   "metadata": {},
   "outputs": [
    {
     "data": {
      "image/png": "[encoded data removed]",
      "text/plain": [
       "<Figure size 1500x200 with 1 Axes>"
      ]
     },
     "metadata": {},
     "output_type": "display_data"
    }
   ],
   "source": [
    "plot_sample(X_Test, Y_Test, 1)"
   ]
  },
  {
   "cell_type": "code",
   "execution_count": 34,
   "id": "6447c5e8-607a-4f95-816a-85d11b9ea1f6",
   "metadata": {},
   "outputs": [
    {
     "data": {
      "image/png": "[encoded data removed]",
      "text/plain": [
       "<Figure size 1500x200 with 1 Axes>"
      ]
     },
     "metadata": {},
     "output_type": "display_data"
    }
   ],
   "source": [
    "plot_sample(X_Test, Y_Test, 0)"
   ]
  },
  {
   "cell_type": "code",
   "execution_count": 35,
   "id": "7c60798f-50ef-4d3f-b156-91831a57b5b7",
   "metadata": {},
   "outputs": [],
   "source": [
    "#Now let's use the model to predict this and see how it performs"
   ]
  },
  {
   "cell_type": "code",
   "execution_count": 36,
   "id": "d92f75f3-9dbd-4de4-a6ed-fc5df4fe8f81",
   "metadata": {},
   "outputs": [
    {
     "name": "stdout",
     "output_type": "stream",
     "text": [
      "313/313 [==============================] - 2s 6ms/step\n"
     ]
    },
    {
     "data": {
      "text/plain": [
       "array([[4.65312361e-04, 2.09846068e-03, 1.12369926e-04, 8.99999976e-01,\n",
       "        3.43030624e-05, 2.92570777e-02, 4.88137557e-05, 1.39858480e-06,\n",
       "        6.72686100e-02, 7.13768648e-04],\n",
       "       [1.30226172e-05, 1.06896096e-07, 7.20985632e-11, 1.10936516e-09,\n",
       "        2.04606901e-10, 9.19225026e-12, 9.27861998e-15, 1.30784283e-12,\n",
       "        9.99986887e-01, 4.83893148e-09],\n",
       "       [1.16153397e-02, 1.74717531e-02, 1.05067773e-03, 8.52172263e-04,\n",
       "        2.11657560e-03, 4.79778573e-05, 4.77204740e-04, 3.68794979e-04,\n",
       "        9.59089339e-01, 6.91013318e-03],\n",
       "       [9.95798647e-01, 4.36637748e-07, 2.43445884e-05, 4.13230055e-07,\n",
       "        1.97849303e-07, 4.47287448e-07, 3.23105792e-10, 5.94868226e-08,\n",
       "        4.17528907e-03, 4.73722501e-08],\n",
       "       [4.20039134e-12, 2.42514986e-09, 1.06833999e-04, 6.73992763e-05,\n",
       "        6.55225303e-05, 3.12543989e-06, 9.99757111e-01, 1.25104649e-09,\n",
       "        5.26856406e-11, 6.71138434e-09]], dtype=float32)"
      ]
     },
     "execution_count": 36,
     "metadata": {},
     "output_type": "execute_result"
    }
   ],
   "source": [
    "Y_Pred = CNN.predict(X_Test)\n",
    "Y_Pred[:5]"
   ]
  },
  {
   "cell_type": "code",
   "execution_count": 37,
   "id": "5d19da22-bca0-468b-ba0c-aa11a9c79830",
   "metadata": {},
   "outputs": [],
   "source": [
    "#Values in each of these elements are probability distribution between zero and one. It's\n",
    "#using SoftMax"
   ]
  },
  {
   "cell_type": "code",
   "execution_count": 38,
   "id": "6ed673a3-14bf-408a-93c0-9b17d0adb197",
   "metadata": {},
   "outputs": [
    {
     "data": {
      "text/plain": [
       "2"
      ]
     },
     "execution_count": 38,
     "metadata": {},
     "output_type": "execute_result"
    }
   ],
   "source": [
    "np.argmax([5, 12, 18])"
   ]
  },
  {
   "cell_type": "code",
   "execution_count": 39,
   "id": "38de27a3-6f46-4ad5-8a9b-aa753934bdad",
   "metadata": {},
   "outputs": [
    {
     "data": {
      "text/plain": [
       "3"
      ]
     },
     "execution_count": 39,
     "metadata": {},
     "output_type": "execute_result"
    }
   ],
   "source": [
    "np.argmax(Y_Pred[0])"
   ]
  },
  {
   "cell_type": "code",
   "execution_count": 40,
   "id": "fe809856-a0a8-4aea-8ac9-099b196eac65",
   "metadata": {},
   "outputs": [
    {
     "data": {
      "text/plain": [
       "[3, 8, 8, 0, 6]"
      ]
     },
     "execution_count": 40,
     "metadata": {},
     "output_type": "execute_result"
    }
   ],
   "source": [
    "Y_Classes = [np.argmax(element) for element in Y_Pred]\n",
    "Y_Classes[:5]"
   ]
  },
  {
   "cell_type": "code",
   "execution_count": 41,
   "id": "9c944a56-4ede-4c49-ae46-efcbb038c8bf",
   "metadata": {},
   "outputs": [
    {
     "data": {
      "text/plain": [
       "array([3, 8, 8, 0, 6], dtype=uint8)"
      ]
     },
     "execution_count": 41,
     "metadata": {},
     "output_type": "execute_result"
    }
   ],
   "source": [
    "Y_Test[:5]"
   ]
  },
  {
   "cell_type": "code",
   "execution_count": 42,
   "id": "e8fedfab-4c55-40bc-8bbe-2efeab7d7e25",
   "metadata": {},
   "outputs": [],
   "source": [
    "#Okay so it prdicted first one as a cat correctly"
   ]
  },
  {
   "cell_type": "code",
   "execution_count": 43,
   "id": "67c6893b-608a-45d5-8d6e-303aae36cbf4",
   "metadata": {},
   "outputs": [
    {
     "data": {
      "text/plain": [
       "['airplane',\n",
       " 'automobile',\n",
       " 'bird',\n",
       " 'cat',\n",
       " 'deer',\n",
       " 'dog',\n",
       " 'frog',\n",
       " 'horse',\n",
       " 'ship',\n",
       " 'truck']"
      ]
     },
     "execution_count": 43,
     "metadata": {},
     "output_type": "execute_result"
    }
   ],
   "source": [
    "classes"
   ]
  },
  {
   "cell_type": "code",
   "execution_count": 44,
   "id": "9c66b1a0-d9fc-482d-b54f-d14116aaf1e7",
   "metadata": {},
   "outputs": [
    {
     "data": {
      "image/png": "[encoded data removed]",
      "text/plain": [
       "<Figure size 1500x200 with 1 Axes>"
      ]
     },
     "metadata": {},
     "output_type": "display_data"
    }
   ],
   "source": [
    "plot_sample(X_Test, Y_Test, 1)"
   ]
  },
  {
   "cell_type": "code",
   "execution_count": 45,
   "id": "54866681-f891-41d9-8600-5a5aab0b69c3",
   "metadata": {},
   "outputs": [
    {
     "data": {
      "text/plain": [
       "'ship'"
      ]
     },
     "execution_count": 45,
     "metadata": {},
     "output_type": "execute_result"
    }
   ],
   "source": [
    "classes[Y_Classes[1]]"
   ]
  },
  {
   "cell_type": "code",
   "execution_count": 46,
   "id": "c7d93d44-f682-47f8-8ea2-8129b91f9c0a",
   "metadata": {},
   "outputs": [],
   "source": [
    "#Again correctly predicted ship"
   ]
  },
  {
   "cell_type": "code",
   "execution_count": 47,
   "id": "28bbcaf9-ed9a-4483-a8af-ff6b284aaff9",
   "metadata": {},
   "outputs": [
    {
     "name": "stdout",
     "output_type": "stream",
     "text": [
      "Classification Report: \n",
      "               precision    recall  f1-score   support\n",
      "\n",
      "           0       0.76      0.71      0.73      1000\n",
      "           1       0.83      0.83      0.83      1000\n",
      "           2       0.67      0.58      0.62      1000\n",
      "           3       0.47      0.61      0.53      1000\n",
      "           4       0.68      0.64      0.66      1000\n",
      "           5       0.65      0.56      0.60      1000\n",
      "           6       0.76      0.79      0.78      1000\n",
      "           7       0.74      0.73      0.74      1000\n",
      "           8       0.77      0.85      0.81      1000\n",
      "           9       0.81      0.79      0.80      1000\n",
      "\n",
      "    accuracy                           0.71     10000\n",
      "   macro avg       0.71      0.71      0.71     10000\n",
      "weighted avg       0.71      0.71      0.71     10000\n",
      "\n"
     ]
    }
   ],
   "source": [
    "print(\"Classification Report: \\n\", classification_report(Y_Test, Y_Classes))"
   ]
  },
  {
   "cell_type": "code",
   "execution_count": 48,
   "id": "a5f2ab16-b4a1-4312-81d3-bea9cbe5b9f8",
   "metadata": {},
   "outputs": [],
   "source": [
    "#Better numbers. CNN also has less computation due to maxPooling"
   ]
  },
  {
   "cell_type": "code",
   "execution_count": null,
   "id": "379bf5b4-3ddd-488b-9bdd-a311f48c3c14",
   "metadata": {},
   "outputs": [],
   "source": []
  }
 ],
 "metadata": {
  "kernelspec": {
   "display_name": "py310",
   "language": "python",
   "name": "python3"
  },
  "language_info": {
   "codemirror_mode": {
    "name": "ipython",
    "version": 3
   },
   "file_extension": ".py",
   "mimetype": "text/x-python",
   "name": "python",
   "nbconvert_exporter": "python",
   "pygments_lexer": "ipython3",
   "version": "3.10.16"
  }
 },
 "nbformat": 4,
 "nbformat_minor": 5
}
